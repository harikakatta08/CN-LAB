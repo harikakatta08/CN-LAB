{
  "nbformat": 4,
  "nbformat_minor": 0,
  "metadata": {
    "colab": {
      "provenance": [],
      "authorship_tag": "ABX9TyN8h07IwzjjEewbk/Bd1Q/y",
      "include_colab_link": true
    },
    "kernelspec": {
      "name": "python3",
      "display_name": "Python 3"
    },
    "language_info": {
      "name": "python"
    }
  },
  "cells": [
    {
      "cell_type": "markdown",
      "metadata": {
        "id": "view-in-github",
        "colab_type": "text"
      },
      "source": [
        "<a href=\"https://colab.research.google.com/github/harikakatta08/CN-LAB/blob/main/Exp2.ipynb\" target=\"_parent\"><img src=\"https://colab.research.google.com/assets/colab-badge.svg\" alt=\"Open In Colab\"/></a>"
      ]
    },
    {
      "cell_type": "code",
      "execution_count": null,
      "metadata": {
        "id": "dDqQEglrTHNY"
      },
      "outputs": [],
      "source": [
        "EXPERIMENT -2\n",
        "Write a Program to implement the data link layer farming methods such as i) Character stuffing ii) bit stuffing.\n",
        "Character stuffing: The framing method gets around the problem of resynchronization after an error by having each frame start with the ASCII character sequence DLE STX and the sequence DLE ETX. If the destination ever losses the track of the frame boundaries all it has to do is look for\n",
        "DLESTX or DLE ETX characters to figure out. The data link layer on the receiving end removes the DLE before the data are given to the network layer. This technique is called character stuffing.\n",
        "PROGRAM:\n",
        "#include<stdio.h>\n",
        "#include<string.h>\n",
        " void main()\n",
        "{\n",
        "int a[20],b[30],i,j,k,count,n;\n",
        "printf(\"Enter frame length:\");\n",
        "scanf(\"%d\",&n);\n",
        "printf(\"Enter input frame (0's & 1's only):\");\n",
        "for(i=0;i<n;i++)\n",
        "scanf(\"%d\",&a[i]);\n",
        "i=0;\n",
        "count=1;\n",
        "j=0;\n",
        "while(i<n)\n",
        "{\n",
        " if(a[i]==1)\n",
        " {\n",
        "b[j]=a[i];\n",
        "for(k=i+1;a[k]==1 && k<n && count<5;k++)\n",
        "{\n",
        "    j++;\n",
        "b[j]=a[k];\n",
        "    count++;\n",
        "    if(count==5)\n",
        "{\n",
        "    j++;\n",
        "}\n",
        " \tb[j]=0;\n",
        "\n",
        "}\n",
        "    i=k;\n",
        "} } else\n",
        "{\n",
        "b[j]=a[i];\n",
        "}\n",
        "i++;\n",
        "j++;\n",
        "}\n",
        "printf(\"After stuffing the frame is:\");\n",
        "for(i=0;i<j;i++)\n",
        "printf(\"%d\",b[i]);\n",
        "}\n",
        "\n",
        "ii)Bitstuffing: The new technique allows data frames to contain an arbitrary number if bits and allows character codes with an arbitrary no of bits per character. Each frame begins and ends with special bit pattern, 01111110, called a flag byte. Whenever the senders data link layer encounters five consecutive one’s in the data, it automatically stuffs a 0 bit into the outgoing bit stream. This bit stuffing is analogous to character stuffing, in which a DLE is stuffed into the outgoing character stream before DLE in the data.\n",
        "PROGRAM:\n",
        "#include<stdio.h>\n",
        " #include<string.h>\n",
        "  main()\n",
        "{\n",
        "     char a[30], fs[50] = \" \", t[3], sd, ed, x[3], s[3], d[3], y[3];\n",
        "int i, j, p = 0, q = 0;\n",
        "     clrscr();\n",
        "     printf(\"Enter characters to be stuffed:\");\n",
        "     scanf(\"%s\", a);\n",
        "printf(\"\\nEnter a character that represents starting delimiter:\");\n",
        "     scanf(\" %c\", &sd);\n",
        "printf(\"\\nEnter a character that represents ending delimiter:\");\n",
        "     scanf(\" %c\", &ed);\n",
        "     x[0] = s[0] = s[1] = sd;\n",
        "     x[1] = s[2] = '\\0';\n",
        "     y[0] = d[0] = d[1] = ed; d[2] = y[1] = '\\0';\n",
        "     strcat(fs, x);\n",
        "for(i = 0; i < strlen(a); i++)\n",
        "{\n",
        "t[0] = a[i]; t[1] = '\\0';\n",
        "   if(t[0] == sd) strcat(fs, s);\n",
        "   else if(t[0]==ed)\n",
        "\n",
        "strcat(fs, d);\n",
        "else strcat(fs, t);\n",
        "}\n",
        "strcat(fs, y);\n",
        "printf(\"\\n After stuffing:%s\", fs);\n",
        "     getch()\n",
        "}\n"
      ]
    }
  ]
}