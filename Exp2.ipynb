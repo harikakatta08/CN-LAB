{
  "nbformat": 4,
  "nbformat_minor": 0,
  "metadata": {
    "colab": {
      "provenance": [],
      "authorship_tag": "ABX9TyMZPHpD+kFh0ek5X2x1YADs",
      "include_colab_link": true
    },
    "kernelspec": {
      "name": "python3",
      "display_name": "Python 3"
    },
    "language_info": {
      "name": "python"
    }
  },
  "cells": [
    {
      "cell_type": "markdown",
      "metadata": {
        "id": "view-in-github",
        "colab_type": "text"
      },
      "source": [
        "<a href=\"https://colab.research.google.com/github/harikakatta08/CN-LAB/blob/main/Exp2.ipynb\" target=\"_parent\"><img src=\"https://colab.research.google.com/assets/colab-badge.svg\" alt=\"Open In Colab\"/></a>"
      ]
    },
    {
      "cell_type": "code",
      "execution_count": null,
      "metadata": {
        "id": "dDqQEglrTHNY"
      },
      "outputs": [],
      "source": [
        "EXPERIMENT -2\n",
        "\n",
        "#include<stdio.h>\n",
        "#include<string.h>\n",
        " void main()\n",
        "{\n",
        "int a[20],b[30],i,j,k,count,n;\n",
        "printf(\"Enter frame length:\");\n",
        "scanf(\"%d\",&n);\n",
        "printf(\"Enter input frame (0's & 1's only):\");\n",
        "for(i=0;i<n;i++)\n",
        "scanf(\"%d\",&a[i]);\n",
        "i=0;\n",
        "count=1;\n",
        "j=0;\n",
        "while(i<n)\n",
        "{\n",
        " if(a[i]==1)\n",
        " {\n",
        "b[j]=a[i];\n",
        "for(k=i+1;a[k]==1 && k<n && count<5;k++)\n",
        "{\n",
        "    j++;\n",
        "b[j]=a[k];\n",
        "    count++;\n",
        "    if(count==5)\n",
        "{\n",
        "    j++;\n",
        "}\n",
        " \tb[j]=0;\n",
        "\n",
        "}\n",
        "    i=k;\n",
        "} } else\n",
        "{\n",
        "b[j]=a[i];\n",
        "}\n",
        "i++;\n",
        "j++;\n",
        "}\n",
        "printf(\"After stuffing the frame is:\");\n",
        "for(i=0;i<j;i++)\n",
        "printf(\"%d\",b[i]);\n",
        "\n",
        "\n",
        "\n"
      ]
    }
  ]
}