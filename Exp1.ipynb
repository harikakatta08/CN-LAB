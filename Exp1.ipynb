{
  "nbformat": 4,
  "nbformat_minor": 0,
  "metadata": {
    "colab": {
      "provenance": [],
      "authorship_tag": "ABX9TyNgsrO8Wm3sjcAT+t5uevFe",
      "include_colab_link": true
    },
    "kernelspec": {
      "name": "python3",
      "display_name": "Python 3"
    },
    "language_info": {
      "name": "python"
    }
  },
  "cells": [
    {
      "cell_type": "markdown",
      "metadata": {
        "id": "view-in-github",
        "colab_type": "text"
      },
      "source": [
        "<a href=\"https://colab.research.google.com/github/harikakatta08/CN-LAB/blob/main/Exp1.ipynb\" target=\"_parent\"><img src=\"https://colab.research.google.com/assets/colab-badge.svg\" alt=\"Open In Colab\"/></a>"
      ]
    },
    {
      "cell_type": "code",
      "execution_count": null,
      "metadata": {
        "id": "NeuurkImMrLl"
      },
      "outputs": [],
      "source": [
        "EXPERIMENT -1\n",
        "Study of Network Devices in Detail and Connecting Computers in a Local Area\n",
        "Network (LAN)\n",
        "1.\tIntroduction to Network Devices\n",
        "Network devices are essential components that enable communication between computers and other devices in a network. In a Local Area Network (LAN), various devices work together to ensure data transmission and connectivity. Below are some commonly used network devices and their functions:\n",
        "\n",
        "2.\tEssential Network Devices\n",
        "a)\tRouter:\n",
        "•\tFunction: Connects multiple networks and directs data packets to their destination.\n",
        "•\tFeatures: Dynamic routing, Network Address Translation (NAT), and firewall capabilities.\n",
        "•\tUse Case: Connecting a LAN to the internet.\n",
        "b)\tSwitch:\n",
        "•\tFunction: Connects multiple devices within a LAN and forwards data only to the intended recipient.\n",
        "•\tFeatures: VLAN support, MAC address learning, and high-speed data transfer.\n",
        "•\tUse Case: Interconnecting computers, printers, and servers within a network. c) Hub:\n",
        "•\tFunction: Broadcasts data to all connected devices without filtering.\n",
        "•\tFeatures: Simple, inexpensive, and basic connectivity.\n",
        "•\tUse Case: Small or less complex networks.\n",
        "d)\tModem (Modulator-Demodulator):\n",
        "•\tFunction: Converts digital signals to analog for transmission over phone lines and vice versa.\n",
        "•\tFeatures: DSL, Cable, and Fiber modems.\n",
        "•\tUse Case: Connecting a LAN to the internet through an ISP.\n",
        "e)\tAccess Point (AP):Function: Extends wireless coverage by connecting Wi-Fi devices to a wired LAN.\n",
        "\n",
        "•\tFeatures: Dual-band support, security protocols (WPA3).\n",
        "•\tUse Case: Creating wireless networks within a LAN.\n",
        "f) Network Interface Card (NIC):\n",
        "•\tFunction: Connects a computer to a network using wired (Ethernet) or wireless (Wi- Fi) methods.\n",
        "•\tFeatures: Unique MAC address and Ethernet port.\n",
        "•\tUse Case: Physical network connection on desktops and laptops.\n",
        "\n",
        "3. Connecting Computers in a Local Area Network\n",
        "(LAN) Step 1: Gather Required Devices and Cables\n",
        "•\tRouter or Switch\n",
        "•\tEthernet cables (Cat5e or Cat6)\n",
        "•\tNetwork Interface Cards (NIC)\n",
        "•\tWireless Access Point (optional) Step 2: Physical Connection\n",
        "•\tConnect the switch to the router using an Ethernet cable.\n",
        "•\tConnect each computer to the switch using Ethernet cables.\n",
        "•\tOptionally, connect a wireless access point to the switch.\n",
        "Step 3: Configure IP Addresses\n",
        "•\tUse Dynamic Host Configuration Protocol (DHCP) on the router to assign IP addresses automatically.\n",
        "•\tAlternatively, assign Static IPAddresses manually within the same subnet.\n",
        "Step 4: Network Configuration\n",
        "•\tEnsure that all computers are set to the same IP subnet (e.g., 192.168.1.x).\n",
        "•\tConfigure the Gateway and DNS Server as the router’s IP address.\n",
        "Step 5: Enable File and Printer Sharing\n",
        "•\tOn Windows:\n",
        "o\tGo to Network and Sharing Center.\n",
        "o\tEnable Network Discovery and File and Printer Sharing.\n",
        "•\tOn Linux:\n",
        "\n",
        "o Use Samba to share files across the network. Step 6: Testing the Network\n",
        "•\tUse the ping command to check connectivity:\n",
        "•\tping 192.168.1.2\n",
        "•\tTest file sharing and printing between connected devices.\n"
      ]
    }
  ]
}