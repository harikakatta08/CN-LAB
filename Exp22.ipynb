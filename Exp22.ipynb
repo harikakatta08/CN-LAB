{
  "nbformat": 4,
  "nbformat_minor": 0,
  "metadata": {
    "colab": {
      "provenance": [],
      "authorship_tag": "ABX9TyMt0CX3JxHakArtd88w8dyL",
      "include_colab_link": true
    },
    "kernelspec": {
      "name": "python3",
      "display_name": "Python 3"
    },
    "language_info": {
      "name": "python"
    }
  },
  "cells": [
    {
      "cell_type": "markdown",
      "metadata": {
        "id": "view-in-github",
        "colab_type": "text"
      },
      "source": [
        "<a href=\"https://colab.research.google.com/github/harikakatta08/CN-LAB/blob/main/Exp22.ipynb\" target=\"_parent\"><img src=\"https://colab.research.google.com/assets/colab-badge.svg\" alt=\"Open In Colab\"/></a>"
      ]
    },
    {
      "cell_type": "code",
      "execution_count": null,
      "metadata": {
        "id": "xP9MxDywUeQO"
      },
      "outputs": [],
      "source": [
        "ii)Bitstuffing: The new technique allows data frames to contain an arbitrary number if bits and allows character codes with an arbitrary no of bits per character. Each frame begins and ends with special bit pattern, 01111110, called a flag byte. Whenever the senders data link layer encounters five consecutive one’s in the data, it automatically stuffs a 0 bit into the outgoing bit stream. This bit stuffing is analogous to character stuffing, in which a DLE is stuffed into the outgoing character stream before DLE in the data.\n",
        "PROGRAM:\n",
        "#include<stdio.h>\n",
        "#include<string.h>\n",
        " main()\n",
        "{\n",
        "    char a[30], fs[50] = \" \", t[3], sd, ed, x[3], s[3], d[3], y[3];\n",
        "int i, j, p = 0, q = 0;\n",
        "    clrscr();\n",
        "    printf(\"Enter characters to be stuffed:\");\n",
        "    scanf(\"%s\", a);\n",
        "printf(\"\\nEnter a character that represents starting delimiter:\");\n",
        "    scanf(\" %c\", &sd);\n",
        "printf(\"\\nEnter a character that represents ending delimiter:\");\n",
        "    scanf(\" %c\", &ed);\n",
        "    x[0] = s[0] = s[1] = sd; x[1] = s[2] = '\\0';\n",
        "    y[0] = d[0] = d[1] = ed;\n",
        "    d[2] = y[1] = '\\0';\n",
        "    strcat(fs, x);\n",
        "for(i = 0; i < strlen(a); i++)\n",
        "{\n",
        "t[0] = a[i]; t[1] = '\\0';\n",
        "   if(t[0] == sd) strcat(fs, s);\n",
        "   else if(t[0]==ed)\n",
        "\n",
        "strcat(fs, d);\n",
        "else strcat(fs, t);\n",
        "}\n",
        "strcat(fs, y);\n",
        "printf(\"\\n After stuffing:%s\", fs); getch()\n",
        "}\n",
        "OUTPUT:\n"
      ]
    }
  ]
}